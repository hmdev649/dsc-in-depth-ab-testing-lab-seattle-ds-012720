{
 "cells": [
  {
   "cell_type": "markdown",
   "metadata": {},
   "source": [
    "# In Depth A/B Testing - Lab\n",
    "\n",
    "## Introduction\n",
    "\n",
    "In this lab, you'll explore a survey from Kaggle regarding budding data scientists. With this, you'll form some initial hypotheses, and test them using the tools you've acquired to date. \n",
    "\n",
    "## Objectives\n",
    "\n",
    "You will be able to:\n",
    "* Conduct t-tests and an ANOVA on a real-world dataset and interpret the results"
   ]
  },
  {
   "cell_type": "markdown",
   "metadata": {},
   "source": [
    "## Load the Dataset and Perform a Brief Exploration\n",
    "\n",
    "The data is stored in a file called **multipleChoiceResponses_cleaned.csv**. Feel free to check out the original dataset referenced at the bottom of this lab, although this cleaned version will undoubtedly be easier to work with. Additionally, meta-data regarding the questions is stored in a file name **schema.csv**. Load in the data itself as a Pandas DataFrame, and take a moment to briefly get acquainted with it.\n",
    "\n",
    "> Note: If you can't get the file to load properly, try changing the encoding format as in `encoding='latin1'`"
   ]
  },
  {
   "cell_type": "code",
   "execution_count": 73,
   "metadata": {},
   "outputs": [],
   "source": [
    "import numpy as np \n",
    "import pandas as pd\n",
    "import matplotlib.pyplot as pyplot\n",
    "import scipy.stats as stats\n",
    "from statsmodels.stats.power import TTestIndPower\n",
    "import seaborn as sns\n",
    "import flatiron_stats\n",
    "%matplotlib inline\n",
    "\n",
    "import statsmodels.api as sm\n",
    "from statsmodels.formula.api import ols"
   ]
  },
  {
   "cell_type": "code",
   "execution_count": 17,
   "metadata": {},
   "outputs": [],
   "source": [
    "#Your code here\n",
    "\n",
    "df = pd.read_csv('multipleChoiceResponses_cleaned.csv')"
   ]
  },
  {
   "cell_type": "code",
   "execution_count": 35,
   "metadata": {},
   "outputs": [
    {
     "data": {
      "text/html": [
       "<div>\n",
       "<style scoped>\n",
       "    .dataframe tbody tr th:only-of-type {\n",
       "        vertical-align: middle;\n",
       "    }\n",
       "\n",
       "    .dataframe tbody tr th {\n",
       "        vertical-align: top;\n",
       "    }\n",
       "\n",
       "    .dataframe thead th {\n",
       "        text-align: right;\n",
       "    }\n",
       "</style>\n",
       "<table border=\"1\" class=\"dataframe\">\n",
       "  <thead>\n",
       "    <tr style=\"text-align: right;\">\n",
       "      <th></th>\n",
       "      <th>AdjustedCompensation</th>\n",
       "      <th>FormalEducation</th>\n",
       "    </tr>\n",
       "  </thead>\n",
       "  <tbody>\n",
       "    <tr>\n",
       "      <td>0</td>\n",
       "      <td>250000.0</td>\n",
       "      <td>Master's degree</td>\n",
       "    </tr>\n",
       "    <tr>\n",
       "      <td>1</td>\n",
       "      <td>64184.8</td>\n",
       "      <td>Bachelor's degree</td>\n",
       "    </tr>\n",
       "    <tr>\n",
       "      <td>2</td>\n",
       "      <td>20882.4</td>\n",
       "      <td>Bachelor's degree</td>\n",
       "    </tr>\n",
       "    <tr>\n",
       "      <td>3</td>\n",
       "      <td>1483.9</td>\n",
       "      <td>Bachelor's degree</td>\n",
       "    </tr>\n",
       "    <tr>\n",
       "      <td>4</td>\n",
       "      <td>36634.4</td>\n",
       "      <td>Master's degree</td>\n",
       "    </tr>\n",
       "  </tbody>\n",
       "</table>\n",
       "</div>"
      ],
      "text/plain": [
       "   AdjustedCompensation    FormalEducation\n",
       "0              250000.0    Master's degree\n",
       "1               64184.8  Bachelor's degree\n",
       "2               20882.4  Bachelor's degree\n",
       "3                1483.9  Bachelor's degree\n",
       "4               36634.4    Master's degree"
      ]
     },
     "execution_count": 35,
     "metadata": {},
     "output_type": "execute_result"
    }
   ],
   "source": [
    "filtered_df = df[['AdjustedCompensation', 'FormalEducation']].dropna().reset_index(drop=True)\n",
    "\n",
    "filtered_df.head()"
   ]
  },
  {
   "cell_type": "markdown",
   "metadata": {},
   "source": [
    "## Wages and Education\n",
    "\n",
    "You've been asked to determine whether education is impactful to salary. Develop a hypothesis test to compare the salaries of those with Master's degrees to those with Bachelor's degrees. Are the two statistically different according to your results?\n",
    "\n",
    "> Note: The relevant features are stored in the 'FormalEducation' and 'AdjustedCompensation' features.\n",
    "\n",
    "You may import the functions stored in the `flatiron_stats.py` file to help perform your hypothesis tests. It contains the stats functions that you previously coded: `welch_t(a,b)`, `welch_df(a, b)`, and `p_value(a, b, two_sided=False)`. \n",
    "\n",
    "Note that `scipy.stats.ttest_ind(a, b, equal_var=False)` performs a two-sided Welch's t-test and that p-values derived from two-sided tests are two times the p-values derived from one-sided tests. See the [documentation](https://docs.scipy.org/doc/scipy/reference/generated/scipy.stats.ttest_ind.html) for more information.    "
   ]
  },
  {
   "cell_type": "code",
   "execution_count": 53,
   "metadata": {},
   "outputs": [
    {
     "name": "stdout",
     "output_type": "stream",
     "text": [
      "Welch T-test: 0.43786693335411514\n",
      "Welch Degrees of Freedom: 1350.0828973008781\n",
      "p-value welch T-test: 0.33077639451272445\n"
     ]
    }
   ],
   "source": [
    "#Your code here\n",
    "# H-0: no difference in wages based on educational attainment\n",
    "# H-a: difference in wages based on educational attainment\n",
    "\n",
    "print(\"Welch T-test: \" + str(flatiron_stats.welch_t(\\\n",
    "                            filtered_df[filtered_df['FormalEducation'] == 'Master\\'s degree']['AdjustedCompensation'],\\\n",
    "                            filtered_df[filtered_df['FormalEducation'] == 'Bachelor\\'s degree']['AdjustedCompensation'])))\n",
    "\n",
    "print(\"Welch Degrees of Freedom: \" + str(flatiron_stats.welch_df(\\\n",
    "                            filtered_df[filtered_df['FormalEducation'] == 'Master\\'s degree']['AdjustedCompensation'],\\\n",
    "                            filtered_df[filtered_df['FormalEducation'] == 'Bachelor\\'s degree']['AdjustedCompensation'])))\n",
    "\n",
    "print(\"p-value welch T-test: \" + str(flatiron_stats.p_value_welch_ttest(\\\n",
    "                            filtered_df[filtered_df['FormalEducation'] == 'Master\\'s degree']['AdjustedCompensation'],\\\n",
    "                            filtered_df[filtered_df['FormalEducation'] == 'Bachelor\\'s degree']['AdjustedCompensation'],\\\n",
    "                                                                       two_sided=False)))\n"
   ]
  },
  {
   "cell_type": "markdown",
   "metadata": {},
   "source": [
    "## Wages and Education II\n",
    "\n",
    "Now perform a similar statistical test comparing the AdjustedCompensation of those with Bachelor's degrees and those with Doctorates. If you haven't already, be sure to explore the distribution of the AdjustedCompensation feature for any anomalies. "
   ]
  },
  {
   "cell_type": "code",
   "execution_count": 66,
   "metadata": {},
   "outputs": [
    {
     "name": "stdout",
     "output_type": "stream",
     "text": [
      "Welch T-test: 1.0081234695549772\n",
      "Welch Degrees of Freedom: 966.0001919995985\n",
      "p-value welch T-test: 0.15682381994720251\n"
     ]
    }
   ],
   "source": [
    "#Your code here\n",
    "# 28,297,400,000; 95666.08\n",
    "# filtered_df.quantile(.99)\n",
    "\n",
    "print(\"Welch T-test: \" + str(flatiron_stats.welch_t(\\\n",
    "                            filtered_df[filtered_df['FormalEducation'] == 'Doctoral degree']['AdjustedCompensation'],\\\n",
    "                            filtered_df[filtered_df['FormalEducation'] == 'Bachelor\\'s degree']['AdjustedCompensation'])))\n",
    "\n",
    "print(\"Welch Degrees of Freedom: \" + str(flatiron_stats.welch_df(\\\n",
    "                            filtered_df[filtered_df['FormalEducation'] == 'Doctoral degree']['AdjustedCompensation'],\\\n",
    "                            filtered_df[filtered_df['FormalEducation'] == 'Bachelor\\'s degree']['AdjustedCompensation'])))\n",
    "\n",
    "print(\"p-value welch T-test: \" + str(flatiron_stats.p_value_welch_ttest(\\\n",
    "                            filtered_df[filtered_df['FormalEducation'] == 'Doctoral degree']['AdjustedCompensation'],\\\n",
    "                            filtered_df[filtered_df['FormalEducation'] == 'Bachelor\\'s degree']['AdjustedCompensation'],\\\n",
    "                                                                       two_sided=False)))\n"
   ]
  },
  {
   "cell_type": "markdown",
   "metadata": {},
   "source": [
    "## Wages and Education III\n",
    "\n",
    "Remember the multiple comparisons problem; rather than continuing on like this, perform an ANOVA test between the various 'FormalEducation' categories and their relation to 'AdjustedCompensation'."
   ]
  },
  {
   "cell_type": "code",
   "execution_count": 78,
   "metadata": {},
   "outputs": [
    {
     "name": "stdout",
     "output_type": "stream",
     "text": [
      "                       sum_sq      df         F    PR(>F)\n",
      "FormalEducation  6.540294e+17     6.0  0.590714  0.738044\n",
      "Residual         7.999414e+20  4335.0       NaN       NaN\n"
     ]
    }
   ],
   "source": [
    "#Your code here\n",
    "\n",
    "formula = 'AdjustedCompensation ~ FormalEducation'\n",
    "lm = ols(formula, filtered_df).fit()\n",
    "table = sm.stats.anova_lm(lm, typ=2)\n",
    "print(table)"
   ]
  },
  {
   "cell_type": "markdown",
   "metadata": {},
   "source": [
    "## Additional Resources\n",
    "\n",
    "Here's the original source where the data was taken from:  \n",
    "    [Kaggle Machine Learning & Data Science Survey 2017](https://www.kaggle.com/kaggle/kaggle-survey-2017)"
   ]
  },
  {
   "cell_type": "markdown",
   "metadata": {},
   "source": [
    "## Summary\n",
    "\n",
    "In this lab, you practiced conducting actual hypothesis tests on actual data. From this, you saw how dependent results can be on the initial problem formulation, including preprocessing!"
   ]
  }
 ],
 "metadata": {
  "kernelspec": {
   "display_name": "Python 3",
   "language": "python",
   "name": "python3"
  },
  "language_info": {
   "codemirror_mode": {
    "name": "ipython",
    "version": 3
   },
   "file_extension": ".py",
   "mimetype": "text/x-python",
   "name": "python",
   "nbconvert_exporter": "python",
   "pygments_lexer": "ipython3",
   "version": "3.6.9"
  },
  "toc": {
   "base_numbering": 1,
   "nav_menu": {},
   "number_sections": true,
   "sideBar": true,
   "skip_h1_title": false,
   "title_cell": "Table of Contents",
   "title_sidebar": "Contents",
   "toc_cell": false,
   "toc_position": {},
   "toc_section_display": true,
   "toc_window_display": false
  }
 },
 "nbformat": 4,
 "nbformat_minor": 4
}
